{
  "nbformat": 4,
  "nbformat_minor": 0,
  "metadata": {
    "colab": {
      "name": "Austin_Animal_Shelter_Capstone.ipynb",
      "provenance": [],
      "collapsed_sections": []
    },
    "kernelspec": {
      "name": "python3",
      "display_name": "Python 3"
    },
    "language_info": {
      "name": "python"
    }
  },
  "cells": [
    {
      "cell_type": "markdown",
      "metadata": {
        "id": "SqS6rsMIPpTW"
      },
      "source": [
        "# **Austin Animal Shelter Capstone**\n",
        "  As an avid animal lover and having volunteered in my local animal shelter, I wanted to analyze and visualize data obtained from other animal shelters. The Austin Animal Shelter publishes its data online through https://data.austintexas.gov/\n",
        "\n",
        "  The primary mission of animal shelters, particularly as a no-kill center, is to maximize the positive outcomes by adopting out as many pets as possible to loving homes and to minimize costs associated with caring for stray animals over an extended period of time.\n",
        "\n",
        "  This project is intended to visualize the performance of the Austin Animal Shelter, and guide recommendations regarding the allocation of advertising resources and veteranary resources to minimize loss of life and minimize time in shelter. \n",
        "\n",
        "  In addition, there has been anecdotal evidence that animal adoptions have increased dramatically with the onset of the COVID-19 lockdowns. I hypothesize that this should become apparent in visualizations generated from this dataset.\n",
        "\n",
        "  Pet owners often have preferences for certain animal species . I hypothesize that there are statistically significant differences in the time prior to adoption depending on the species of animal."
      ]
    },
    {
      "cell_type": "markdown",
      "metadata": {
        "id": "s7FG2-k2XcGn"
      },
      "source": [
        "#Installation and Importing of Required Modules"
      ]
    },
    {
      "cell_type": "code",
      "metadata": {
        "colab": {
          "base_uri": "https://localhost:8080/"
        },
        "id": "6MVhbl9vHmh3",
        "outputId": "ea7b424e-f3bd-431d-c5e8-572abd8e0255"
      },
      "source": [
        "# Package installation Cell\n",
        "!pip install sodapy\n",
        "!pip install researchpy"
      ],
      "execution_count": null,
      "outputs": [
        {
          "output_type": "stream",
          "text": [
            "Collecting sodapy\n",
            "  Downloading https://files.pythonhosted.org/packages/9e/74/95fb7d45bbe7f1de43caac45d7dd4807ef1e15881564a00eef489a3bb5c6/sodapy-2.1.0-py2.py3-none-any.whl\n",
            "Requirement already satisfied: requests>=2.20.0 in /usr/local/lib/python3.7/dist-packages (from sodapy) (2.23.0)\n",
            "Requirement already satisfied: certifi>=2017.4.17 in /usr/local/lib/python3.7/dist-packages (from requests>=2.20.0->sodapy) (2020.12.5)\n",
            "Requirement already satisfied: urllib3!=1.25.0,!=1.25.1,<1.26,>=1.21.1 in /usr/local/lib/python3.7/dist-packages (from requests>=2.20.0->sodapy) (1.24.3)\n",
            "Requirement already satisfied: idna<3,>=2.5 in /usr/local/lib/python3.7/dist-packages (from requests>=2.20.0->sodapy) (2.10)\n",
            "Requirement already satisfied: chardet<4,>=3.0.2 in /usr/local/lib/python3.7/dist-packages (from requests>=2.20.0->sodapy) (3.0.4)\n",
            "Installing collected packages: sodapy\n",
            "Successfully installed sodapy-2.1.0\n",
            "Collecting researchpy\n",
            "  Downloading https://files.pythonhosted.org/packages/4b/a3/b16ea25a5416f7c35824b2fc3ee1cdc9f9d8ab6d9fc4119679504d43b8a8/researchpy-0.2.3-py3-none-any.whl\n",
            "Requirement already satisfied: scipy in /usr/local/lib/python3.7/dist-packages (from researchpy) (1.4.1)\n",
            "Requirement already satisfied: statsmodels in /usr/local/lib/python3.7/dist-packages (from researchpy) (0.10.2)\n",
            "Requirement already satisfied: numpy in /usr/local/lib/python3.7/dist-packages (from researchpy) (1.19.5)\n",
            "Requirement already satisfied: pandas in /usr/local/lib/python3.7/dist-packages (from researchpy) (1.1.5)\n",
            "Requirement already satisfied: patsy>=0.4.0 in /usr/local/lib/python3.7/dist-packages (from statsmodels->researchpy) (0.5.1)\n",
            "Requirement already satisfied: python-dateutil>=2.7.3 in /usr/local/lib/python3.7/dist-packages (from pandas->researchpy) (2.8.1)\n",
            "Requirement already satisfied: pytz>=2017.2 in /usr/local/lib/python3.7/dist-packages (from pandas->researchpy) (2018.9)\n",
            "Requirement already satisfied: six in /usr/local/lib/python3.7/dist-packages (from patsy>=0.4.0->statsmodels->researchpy) (1.15.0)\n",
            "Installing collected packages: researchpy\n",
            "Successfully installed researchpy-0.2.3\n"
          ],
          "name": "stdout"
        }
      ]
    },
    {
      "cell_type": "code",
      "metadata": {
        "id": "MBssvy69g4Ra",
        "colab": {
          "base_uri": "https://localhost:8080/"
        },
        "outputId": "2e42e177-9360-4e4d-ddde-8a19cf29de60"
      },
      "source": [
        "# Module Import Cell\n",
        "import numpy as np \n",
        "import pandas as pd \n",
        "import scipy \n",
        "import matplotlib.pyplot as plt\n",
        "import seaborn as sns\n",
        "import researchpy as rp\n",
        "from scipy.stats import f_oneway\n",
        "from scipy.stats import pearsonr\n",
        "from sodapy import Socrata"
      ],
      "execution_count": null,
      "outputs": [
        {
          "output_type": "stream",
          "text": [
            "/usr/local/lib/python3.7/dist-packages/statsmodels/tools/_testing.py:19: FutureWarning: pandas.util.testing is deprecated. Use the functions in the public API at pandas.testing instead.\n",
            "  import pandas.util.testing as tm\n"
          ],
          "name": "stderr"
        }
      ]
    },
    {
      "cell_type": "markdown",
      "metadata": {
        "id": "H99Poq5uXjep"
      },
      "source": [
        "#Acquisition and Processing of Shelter Data"
      ]
    },
    {
      "cell_type": "code",
      "metadata": {
        "id": "nmsOckEqH4G-"
      },
      "source": [
        "# Data Acquisiton Cell\n",
        "# By using API provided by city of Austin, can obtain real time data directly from their database.\n",
        "\n",
        "# Login credentials\n",
        "client = Socrata(\"data.austintexas.gov\",\n",
        "                  \"f1P6SIcQar0M9yL7rgt1UcpQ0\",\n",
        "                  username=\"donald.sun91@gmail.com\",\n",
        "                  password=\"Capstone3\")\n",
        "\n",
        "# Request for intake/outcome database information\n",
        "# Limit hardcoded above 125000 to ensure complete download of dataset\n",
        "# Intake Source = https://data.austintexas.gov/Health-and-Community-Services/Austin-Animal-Center-Intakes/wter-evkm\n",
        "intake = client.get(\"wter-evkm\", limit=225000)\n",
        "# Outcome Source = https://data.austintexas.gov/Health-and-Community-Services/Austin-Animal-Center-Outcomes/9t4d-g238\n",
        "outcome = client.get(\"9t4d-g238\", limit=225000)\n",
        "\n",
        "# Convert to pandas DataFrame\n",
        "intake_df = pd.DataFrame.from_records(intake)\n",
        "outcome_df = pd.DataFrame.from_records(outcome)"
      ],
      "execution_count": null,
      "outputs": []
    },
    {
      "cell_type": "code",
      "metadata": {
        "colab": {
          "base_uri": "https://localhost:8080/"
        },
        "id": "XvWtnZX6bzdo",
        "outputId": "c68900e8-42f8-4e12-c36b-3296408586a2"
      },
      "source": [
        "# Quality check for data acquisition and information completeness\n",
        "# Count of animal_id should be over 125000\n",
        "# Non_null count of columns should match count of animal_id\n",
        "intake_df.info()"
      ],
      "execution_count": null,
      "outputs": [
        {
          "output_type": "stream",
          "text": [
            "<class 'pandas.core.frame.DataFrame'>\n",
            "RangeIndex: 125117 entries, 0 to 125116\n",
            "Data columns (total 12 columns):\n",
            " #   Column            Non-Null Count   Dtype \n",
            "---  ------            --------------   ----- \n",
            " 0   animal_id         125117 non-null  object\n",
            " 1   name              85766 non-null   object\n",
            " 2   datetime          125117 non-null  object\n",
            " 3   datetime2         125117 non-null  object\n",
            " 4   found_location    125117 non-null  object\n",
            " 5   intake_type       125117 non-null  object\n",
            " 6   intake_condition  125117 non-null  object\n",
            " 7   animal_type       125117 non-null  object\n",
            " 8   sex_upon_intake   125117 non-null  object\n",
            " 9   age_upon_intake   125117 non-null  object\n",
            " 10  breed             125117 non-null  object\n",
            " 11  color             125117 non-null  object\n",
            "dtypes: object(12)\n",
            "memory usage: 11.5+ MB\n"
          ],
          "name": "stdout"
        }
      ]
    },
    {
      "cell_type": "markdown",
      "metadata": {
        "id": "KWn0tHiudhCa"
      },
      "source": [
        "Intake information shows 100% completness, not counting names. Not all animals given names"
      ]
    },
    {
      "cell_type": "code",
      "metadata": {
        "colab": {
          "base_uri": "https://localhost:8080/"
        },
        "id": "9FQ9VYugdVjz",
        "outputId": "df7a0008-a8d5-49fa-f75b-b6c2e0bffa09"
      },
      "source": [
        "# Quality check for data acquisition and information completeness\n",
        "# Count of animal_id should be over 125000\n",
        "# Non_null count of columns should match count of animal_id\n",
        "outcome_df.info()"
      ],
      "execution_count": null,
      "outputs": [
        {
          "output_type": "stream",
          "text": [
            "<class 'pandas.core.frame.DataFrame'>\n",
            "RangeIndex: 125445 entries, 0 to 125444\n",
            "Data columns (total 12 columns):\n",
            " #   Column            Non-Null Count   Dtype \n",
            "---  ------            --------------   ----- \n",
            " 0   animal_id         125445 non-null  object\n",
            " 1   name              86179 non-null   object\n",
            " 2   datetime          125445 non-null  object\n",
            " 3   monthyear         125445 non-null  object\n",
            " 4   date_of_birth     125445 non-null  object\n",
            " 5   outcome_type      125424 non-null  object\n",
            " 6   animal_type       125445 non-null  object\n",
            " 7   sex_upon_outcome  125445 non-null  object\n",
            " 8   age_upon_outcome  125445 non-null  object\n",
            " 9   breed             125445 non-null  object\n",
            " 10  color             125445 non-null  object\n",
            " 11  outcome_subtype   57842 non-null   object\n",
            "dtypes: object(12)\n",
            "memory usage: 11.5+ MB\n"
          ],
          "name": "stdout"
        }
      ]
    },
    {
      "cell_type": "markdown",
      "metadata": {
        "id": "eFbo6TGQdpj3"
      },
      "source": [
        "Outcome information shows some null values in outcome_type, indicating that data was not fully populated by Animal Shelter. This represents a tiny portion of the overall data and can be excluded from analysis if necessary."
      ]
    },
    {
      "cell_type": "code",
      "metadata": {
        "colab": {
          "base_uri": "https://localhost:8080/"
        },
        "id": "3yRhbxbkM-Vq",
        "outputId": "65665c09-8bdf-496d-8344-2c6799ef79ec"
      },
      "source": [
        "# Removing duplicate animal_id's from dataframe\n",
        "# Saved to new DF to preserve initial API request and minimize downloads\n",
        "intake_df2 = intake_df.drop_duplicates(subset='animal_id',keep=False)\n",
        "outcome_df2 = outcome_df.drop_duplicates(subset='animal_id',keep=False)\n",
        "dropped_intake = len(intake_df)-len(intake_df2)\n",
        "dropped_outcome = len(outcome_df)-len(outcome_df2)\n",
        "repeat = (dropped_intake+dropped_outcome)/(len(intake_df)+len(outcome_df))\n",
        "\n",
        "print(dropped_intake,' number of duplicate intake records have been removed.')\n",
        "print(dropped_outcome,' number of duplicate outcome records have been removed.')\n",
        "print(round(repeat,3)*100,'% of animals have entered the shelter multiple times')"
      ],
      "execution_count": null,
      "outputs": [
        {
          "output_type": "stream",
          "text": [
            "23484  number of duplicate intake records have been removed.\n",
            "23478  number of duplicate outcome records have been removed.\n",
            "18.7 % of animals have entered the shelter multiple times\n"
          ],
          "name": "stdout"
        }
      ]
    },
    {
      "cell_type": "code",
      "metadata": {
        "colab": {
          "base_uri": "https://localhost:8080/"
        },
        "id": "Gw1_Edd2N5e8",
        "outputId": "696fd82c-fbf4-4918-f2ac-c798baac71ef"
      },
      "source": [
        "# Checking the dataframe following removal of all duplicate records\n",
        "intake_df2.info()"
      ],
      "execution_count": null,
      "outputs": [
        {
          "output_type": "stream",
          "text": [
            "<class 'pandas.core.frame.DataFrame'>\n",
            "Int64Index: 101633 entries, 0 to 125116\n",
            "Data columns (total 12 columns):\n",
            " #   Column            Non-Null Count   Dtype \n",
            "---  ------            --------------   ----- \n",
            " 0   animal_id         101633 non-null  object\n",
            " 1   name              63059 non-null   object\n",
            " 2   datetime          101633 non-null  object\n",
            " 3   datetime2         101633 non-null  object\n",
            " 4   found_location    101633 non-null  object\n",
            " 5   intake_type       101633 non-null  object\n",
            " 6   intake_condition  101633 non-null  object\n",
            " 7   animal_type       101633 non-null  object\n",
            " 8   sex_upon_intake   101633 non-null  object\n",
            " 9   age_upon_intake   101633 non-null  object\n",
            " 10  breed             101633 non-null  object\n",
            " 11  color             101633 non-null  object\n",
            "dtypes: object(12)\n",
            "memory usage: 10.1+ MB\n"
          ],
          "name": "stdout"
        }
      ]
    },
    {
      "cell_type": "code",
      "metadata": {
        "colab": {
          "base_uri": "https://localhost:8080/"
        },
        "id": "pQxRUjzMN9nV",
        "outputId": "b8a564ab-3491-4720-a804-1cdd5207c786"
      },
      "source": [
        "# Checking the dataframe following removal of all duplicate records\n",
        "outcome_df2.info()"
      ],
      "execution_count": null,
      "outputs": [
        {
          "output_type": "stream",
          "text": [
            "<class 'pandas.core.frame.DataFrame'>\n",
            "Int64Index: 101967 entries, 0 to 125444\n",
            "Data columns (total 12 columns):\n",
            " #   Column            Non-Null Count   Dtype \n",
            "---  ------            --------------   ----- \n",
            " 0   animal_id         101967 non-null  object\n",
            " 1   name              63480 non-null   object\n",
            " 2   datetime          101967 non-null  object\n",
            " 3   monthyear         101967 non-null  object\n",
            " 4   date_of_birth     101967 non-null  object\n",
            " 5   outcome_type      101952 non-null  object\n",
            " 6   animal_type       101967 non-null  object\n",
            " 7   sex_upon_outcome  101967 non-null  object\n",
            " 8   age_upon_outcome  101967 non-null  object\n",
            " 9   breed             101967 non-null  object\n",
            " 10  color             101967 non-null  object\n",
            " 11  outcome_subtype   53183 non-null   object\n",
            "dtypes: object(12)\n",
            "memory usage: 10.1+ MB\n"
          ],
          "name": "stdout"
        }
      ]
    },
    {
      "cell_type": "markdown",
      "metadata": {
        "id": "LDPuIGvNM-6-"
      },
      "source": [
        "Duplicate entries correspond to individual animals who for one reason or another, have been sent to the animal shelter multiple times. This complicates the joining of the intake and outcome dataframes, and represents a distinct population of animals with different characteristics than those who only enter the shelter once. Those characteristics may include psychological or physical issues, an animal who's owners allow it to roam freely, or simply an unlucky animal who has been surrendered by multiple unprepared owners. They will be excluded from the analysis."
      ]
    },
    {
      "cell_type": "code",
      "metadata": {
        "colab": {
          "base_uri": "https://localhost:8080/",
          "height": 225
        },
        "id": "thk2GEOAhfTv",
        "outputId": "7a061bc6-5f6a-403c-804b-d6e44e15b44e"
      },
      "source": [
        "# Dropped duplicate and unused columns to reduce size of combined dataframe\n",
        "outcome_df2 = outcome_df2.drop(columns=['datetime','name','date_of_birth'])\n",
        "outcome_df2 = outcome_df2.rename(columns={'monthyear': 'outcome_date'})\n",
        "outcome_df2 = outcome_df2.set_index('animal_id')\n",
        "outcome_df2.head()"
      ],
      "execution_count": null,
      "outputs": [
        {
          "output_type": "execute_result",
          "data": {
            "text/html": [
              "<div>\n",
              "<style scoped>\n",
              "    .dataframe tbody tr th:only-of-type {\n",
              "        vertical-align: middle;\n",
              "    }\n",
              "\n",
              "    .dataframe tbody tr th {\n",
              "        vertical-align: top;\n",
              "    }\n",
              "\n",
              "    .dataframe thead th {\n",
              "        text-align: right;\n",
              "    }\n",
              "</style>\n",
              "<table border=\"1\" class=\"dataframe\">\n",
              "  <thead>\n",
              "    <tr style=\"text-align: right;\">\n",
              "      <th></th>\n",
              "      <th>outcome_date</th>\n",
              "      <th>outcome_type</th>\n",
              "      <th>animal_type</th>\n",
              "      <th>sex_upon_outcome</th>\n",
              "      <th>age_upon_outcome</th>\n",
              "      <th>breed</th>\n",
              "      <th>color</th>\n",
              "      <th>outcome_subtype</th>\n",
              "    </tr>\n",
              "    <tr>\n",
              "      <th>animal_id</th>\n",
              "      <th></th>\n",
              "      <th></th>\n",
              "      <th></th>\n",
              "      <th></th>\n",
              "      <th></th>\n",
              "      <th></th>\n",
              "      <th></th>\n",
              "      <th></th>\n",
              "    </tr>\n",
              "  </thead>\n",
              "  <tbody>\n",
              "    <tr>\n",
              "      <th>A832070</th>\n",
              "      <td>2021-04-14T17:28:00.000</td>\n",
              "      <td>Adoption</td>\n",
              "      <td>Dog</td>\n",
              "      <td>Spayed Female</td>\n",
              "      <td>8 months</td>\n",
              "      <td>Pit Bull Mix</td>\n",
              "      <td>Black/White</td>\n",
              "      <td>NaN</td>\n",
              "    </tr>\n",
              "    <tr>\n",
              "      <th>A831616</th>\n",
              "      <td>2021-04-14T17:13:00.000</td>\n",
              "      <td>Adoption</td>\n",
              "      <td>Dog</td>\n",
              "      <td>Spayed Female</td>\n",
              "      <td>2 years</td>\n",
              "      <td>Australian Kelpie Mix</td>\n",
              "      <td>Brown/Black</td>\n",
              "      <td>NaN</td>\n",
              "    </tr>\n",
              "    <tr>\n",
              "      <th>A831615</th>\n",
              "      <td>2021-04-14T17:12:00.000</td>\n",
              "      <td>Adoption</td>\n",
              "      <td>Dog</td>\n",
              "      <td>Spayed Female</td>\n",
              "      <td>2 years</td>\n",
              "      <td>Australian Kelpie Mix</td>\n",
              "      <td>Black/Brown</td>\n",
              "      <td>NaN</td>\n",
              "    </tr>\n",
              "    <tr>\n",
              "      <th>A832503</th>\n",
              "      <td>2021-04-14T16:58:00.000</td>\n",
              "      <td>Transfer</td>\n",
              "      <td>Cat</td>\n",
              "      <td>Intact Male</td>\n",
              "      <td>1 week</td>\n",
              "      <td>Domestic Shorthair</td>\n",
              "      <td>Blue</td>\n",
              "      <td>Partner</td>\n",
              "    </tr>\n",
              "    <tr>\n",
              "      <th>A832502</th>\n",
              "      <td>2021-04-14T16:58:00.000</td>\n",
              "      <td>Transfer</td>\n",
              "      <td>Cat</td>\n",
              "      <td>Intact Male</td>\n",
              "      <td>1 week</td>\n",
              "      <td>Domestic Shorthair</td>\n",
              "      <td>Blue</td>\n",
              "      <td>Partner</td>\n",
              "    </tr>\n",
              "  </tbody>\n",
              "</table>\n",
              "</div>"
            ],
            "text/plain": [
              "                      outcome_date outcome_type  ...        color outcome_subtype\n",
              "animal_id                                        ...                             \n",
              "A832070    2021-04-14T17:28:00.000     Adoption  ...  Black/White             NaN\n",
              "A831616    2021-04-14T17:13:00.000     Adoption  ...  Brown/Black             NaN\n",
              "A831615    2021-04-14T17:12:00.000     Adoption  ...  Black/Brown             NaN\n",
              "A832503    2021-04-14T16:58:00.000     Transfer  ...         Blue         Partner\n",
              "A832502    2021-04-14T16:58:00.000     Transfer  ...         Blue         Partner\n",
              "\n",
              "[5 rows x 8 columns]"
            ]
          },
          "metadata": {
            "tags": []
          },
          "execution_count": 300
        }
      ]
    },
    {
      "cell_type": "code",
      "metadata": {
        "colab": {
          "base_uri": "https://localhost:8080/",
          "height": 225
        },
        "id": "GzP7SQBih8mx",
        "outputId": "bc7e72ed-c2d7-44cc-8a1f-13cfed1a03a9"
      },
      "source": [
        "# Dropped duplicate and unused columns to reduce size of combined dataframe\n",
        "intake_df2 = intake_df2.drop(columns=['datetime2','found_location','breed','color','name'])\n",
        "intake_df2 = intake_df2.rename(columns={'datetime': 'intake_date'})\n",
        "intake_df2 = intake_df2.set_index('animal_id')\n",
        "intake_df2.head()"
      ],
      "execution_count": null,
      "outputs": [
        {
          "output_type": "execute_result",
          "data": {
            "text/html": [
              "<div>\n",
              "<style scoped>\n",
              "    .dataframe tbody tr th:only-of-type {\n",
              "        vertical-align: middle;\n",
              "    }\n",
              "\n",
              "    .dataframe tbody tr th {\n",
              "        vertical-align: top;\n",
              "    }\n",
              "\n",
              "    .dataframe thead th {\n",
              "        text-align: right;\n",
              "    }\n",
              "</style>\n",
              "<table border=\"1\" class=\"dataframe\">\n",
              "  <thead>\n",
              "    <tr style=\"text-align: right;\">\n",
              "      <th></th>\n",
              "      <th>intake_date</th>\n",
              "      <th>intake_type</th>\n",
              "      <th>intake_condition</th>\n",
              "      <th>animal_type</th>\n",
              "      <th>sex_upon_intake</th>\n",
              "      <th>age_upon_intake</th>\n",
              "    </tr>\n",
              "    <tr>\n",
              "      <th>animal_id</th>\n",
              "      <th></th>\n",
              "      <th></th>\n",
              "      <th></th>\n",
              "      <th></th>\n",
              "      <th></th>\n",
              "      <th></th>\n",
              "    </tr>\n",
              "  </thead>\n",
              "  <tbody>\n",
              "    <tr>\n",
              "      <th>A832522</th>\n",
              "      <td>2021-04-14T17:46:00.000</td>\n",
              "      <td>Owner Surrender</td>\n",
              "      <td>Normal</td>\n",
              "      <td>Dog</td>\n",
              "      <td>Intact Female</td>\n",
              "      <td>5 years</td>\n",
              "    </tr>\n",
              "    <tr>\n",
              "      <th>A832520</th>\n",
              "      <td>2021-04-14T17:31:00.000</td>\n",
              "      <td>Stray</td>\n",
              "      <td>Normal</td>\n",
              "      <td>Dog</td>\n",
              "      <td>Intact Female</td>\n",
              "      <td>2 months</td>\n",
              "    </tr>\n",
              "    <tr>\n",
              "      <th>A832519</th>\n",
              "      <td>2021-04-14T17:31:00.000</td>\n",
              "      <td>Stray</td>\n",
              "      <td>Normal</td>\n",
              "      <td>Dog</td>\n",
              "      <td>Intact Female</td>\n",
              "      <td>2 years</td>\n",
              "    </tr>\n",
              "    <tr>\n",
              "      <th>A832521</th>\n",
              "      <td>2021-04-14T17:31:00.000</td>\n",
              "      <td>Stray</td>\n",
              "      <td>Normal</td>\n",
              "      <td>Dog</td>\n",
              "      <td>Intact Female</td>\n",
              "      <td>2 months</td>\n",
              "    </tr>\n",
              "    <tr>\n",
              "      <th>A832518</th>\n",
              "      <td>2021-04-14T16:59:00.000</td>\n",
              "      <td>Stray</td>\n",
              "      <td>Normal</td>\n",
              "      <td>Dog</td>\n",
              "      <td>Intact Male</td>\n",
              "      <td>2 years</td>\n",
              "    </tr>\n",
              "  </tbody>\n",
              "</table>\n",
              "</div>"
            ],
            "text/plain": [
              "                       intake_date  ... age_upon_intake\n",
              "animal_id                           ...                \n",
              "A832522    2021-04-14T17:46:00.000  ...         5 years\n",
              "A832520    2021-04-14T17:31:00.000  ...        2 months\n",
              "A832519    2021-04-14T17:31:00.000  ...         2 years\n",
              "A832521    2021-04-14T17:31:00.000  ...        2 months\n",
              "A832518    2021-04-14T16:59:00.000  ...         2 years\n",
              "\n",
              "[5 rows x 6 columns]"
            ]
          },
          "metadata": {
            "tags": []
          },
          "execution_count": 301
        }
      ]
    },
    {
      "cell_type": "code",
      "metadata": {
        "colab": {
          "base_uri": "https://localhost:8080/",
          "height": 225
        },
        "id": "68HHdRnlenR2",
        "outputId": "ef9a15f0-f193-4c76-e52b-076d33f87885"
      },
      "source": [
        "# Joined outcome data onto intake data, some outcome data excluded as some outcomes dont have associated intake data\n",
        "i_o = intake_df2.join(outcome_df2,how='inner', on='animal_id',lsuffix='_i',rsuffix='_o')\n",
        "\n",
        "# Create new dataframe for analysis, dropping duplicate columns\n",
        "i_o = i_o.drop(columns=['animal_type_o'])\n",
        "i_o.head()"
      ],
      "execution_count": null,
      "outputs": [
        {
          "output_type": "execute_result",
          "data": {
            "text/html": [
              "<div>\n",
              "<style scoped>\n",
              "    .dataframe tbody tr th:only-of-type {\n",
              "        vertical-align: middle;\n",
              "    }\n",
              "\n",
              "    .dataframe tbody tr th {\n",
              "        vertical-align: top;\n",
              "    }\n",
              "\n",
              "    .dataframe thead th {\n",
              "        text-align: right;\n",
              "    }\n",
              "</style>\n",
              "<table border=\"1\" class=\"dataframe\">\n",
              "  <thead>\n",
              "    <tr style=\"text-align: right;\">\n",
              "      <th></th>\n",
              "      <th>intake_date</th>\n",
              "      <th>intake_type</th>\n",
              "      <th>intake_condition</th>\n",
              "      <th>animal_type_i</th>\n",
              "      <th>sex_upon_intake</th>\n",
              "      <th>age_upon_intake</th>\n",
              "      <th>outcome_date</th>\n",
              "      <th>outcome_type</th>\n",
              "      <th>sex_upon_outcome</th>\n",
              "      <th>age_upon_outcome</th>\n",
              "      <th>breed</th>\n",
              "      <th>color</th>\n",
              "      <th>outcome_subtype</th>\n",
              "    </tr>\n",
              "    <tr>\n",
              "      <th>animal_id</th>\n",
              "      <th></th>\n",
              "      <th></th>\n",
              "      <th></th>\n",
              "      <th></th>\n",
              "      <th></th>\n",
              "      <th></th>\n",
              "      <th></th>\n",
              "      <th></th>\n",
              "      <th></th>\n",
              "      <th></th>\n",
              "      <th></th>\n",
              "      <th></th>\n",
              "      <th></th>\n",
              "    </tr>\n",
              "  </thead>\n",
              "  <tbody>\n",
              "    <tr>\n",
              "      <th>A832502</th>\n",
              "      <td>2021-04-14T14:37:00.000</td>\n",
              "      <td>Stray</td>\n",
              "      <td>Nursing</td>\n",
              "      <td>Cat</td>\n",
              "      <td>Intact Male</td>\n",
              "      <td>1 week</td>\n",
              "      <td>2021-04-14T16:58:00.000</td>\n",
              "      <td>Transfer</td>\n",
              "      <td>Intact Male</td>\n",
              "      <td>1 week</td>\n",
              "      <td>Domestic Shorthair</td>\n",
              "      <td>Blue</td>\n",
              "      <td>Partner</td>\n",
              "    </tr>\n",
              "    <tr>\n",
              "      <th>A832500</th>\n",
              "      <td>2021-04-14T14:37:00.000</td>\n",
              "      <td>Stray</td>\n",
              "      <td>Nursing</td>\n",
              "      <td>Cat</td>\n",
              "      <td>Intact Male</td>\n",
              "      <td>1 week</td>\n",
              "      <td>2021-04-14T16:58:00.000</td>\n",
              "      <td>Transfer</td>\n",
              "      <td>Intact Male</td>\n",
              "      <td>1 week</td>\n",
              "      <td>Domestic Shorthair</td>\n",
              "      <td>Brown Tabby</td>\n",
              "      <td>Partner</td>\n",
              "    </tr>\n",
              "    <tr>\n",
              "      <th>A832503</th>\n",
              "      <td>2021-04-14T14:37:00.000</td>\n",
              "      <td>Stray</td>\n",
              "      <td>Nursing</td>\n",
              "      <td>Cat</td>\n",
              "      <td>Intact Male</td>\n",
              "      <td>1 week</td>\n",
              "      <td>2021-04-14T16:58:00.000</td>\n",
              "      <td>Transfer</td>\n",
              "      <td>Intact Male</td>\n",
              "      <td>1 week</td>\n",
              "      <td>Domestic Shorthair</td>\n",
              "      <td>Blue</td>\n",
              "      <td>Partner</td>\n",
              "    </tr>\n",
              "    <tr>\n",
              "      <th>A832490</th>\n",
              "      <td>2021-04-14T13:40:00.000</td>\n",
              "      <td>Stray</td>\n",
              "      <td>Injured</td>\n",
              "      <td>Cat</td>\n",
              "      <td>Intact Male</td>\n",
              "      <td>1 weeks</td>\n",
              "      <td>2021-04-14T14:26:00.000</td>\n",
              "      <td>Euthanasia</td>\n",
              "      <td>Intact Male</td>\n",
              "      <td>NULL</td>\n",
              "      <td>Domestic Shorthair Mix</td>\n",
              "      <td>Blue Tabby</td>\n",
              "      <td>Suffering</td>\n",
              "    </tr>\n",
              "    <tr>\n",
              "      <th>A832474</th>\n",
              "      <td>2021-04-14T11:58:00.000</td>\n",
              "      <td>Wildlife</td>\n",
              "      <td>Sick</td>\n",
              "      <td>Other</td>\n",
              "      <td>Unknown</td>\n",
              "      <td>3 years</td>\n",
              "      <td>2021-04-14T12:01:00.000</td>\n",
              "      <td>Disposal</td>\n",
              "      <td>Unknown</td>\n",
              "      <td>3 years</td>\n",
              "      <td>Opossum</td>\n",
              "      <td>Gray/White</td>\n",
              "      <td>NaN</td>\n",
              "    </tr>\n",
              "  </tbody>\n",
              "</table>\n",
              "</div>"
            ],
            "text/plain": [
              "                       intake_date intake_type  ...        color outcome_subtype\n",
              "animal_id                                       ...                             \n",
              "A832502    2021-04-14T14:37:00.000       Stray  ...         Blue         Partner\n",
              "A832500    2021-04-14T14:37:00.000       Stray  ...  Brown Tabby         Partner\n",
              "A832503    2021-04-14T14:37:00.000       Stray  ...         Blue         Partner\n",
              "A832490    2021-04-14T13:40:00.000       Stray  ...   Blue Tabby       Suffering\n",
              "A832474    2021-04-14T11:58:00.000    Wildlife  ...   Gray/White             NaN\n",
              "\n",
              "[5 rows x 13 columns]"
            ]
          },
          "metadata": {
            "tags": []
          },
          "execution_count": 302
        }
      ]
    },
    {
      "cell_type": "code",
      "metadata": {
        "colab": {
          "base_uri": "https://localhost:8080/"
        },
        "id": "3-AtMX2ciqcG",
        "outputId": "6e7687c0-05be-4340-f4a0-7b02d3e805c7"
      },
      "source": [
        "# Expect to see fully populated data, excluding outcome_type\n",
        "# Count of outcome_type nulls should be equal to original dataframe\n",
        "i_o.info()"
      ],
      "execution_count": null,
      "outputs": [
        {
          "output_type": "stream",
          "text": [
            "<class 'pandas.core.frame.DataFrame'>\n",
            "Index: 101067 entries, A832502 to A521520\n",
            "Data columns (total 13 columns):\n",
            " #   Column            Non-Null Count   Dtype \n",
            "---  ------            --------------   ----- \n",
            " 0   intake_date       101067 non-null  object\n",
            " 1   intake_type       101067 non-null  object\n",
            " 2   intake_condition  101067 non-null  object\n",
            " 3   animal_type_i     101067 non-null  object\n",
            " 4   sex_upon_intake   101067 non-null  object\n",
            " 5   age_upon_intake   101067 non-null  object\n",
            " 6   outcome_date      101067 non-null  object\n",
            " 7   outcome_type      101052 non-null  object\n",
            " 8   sex_upon_outcome  101067 non-null  object\n",
            " 9   age_upon_outcome  101067 non-null  object\n",
            " 10  breed             101067 non-null  object\n",
            " 11  color             101067 non-null  object\n",
            " 12  outcome_subtype   52701 non-null   object\n",
            "dtypes: object(13)\n",
            "memory usage: 10.8+ MB\n"
          ],
          "name": "stdout"
        }
      ]
    },
    {
      "cell_type": "markdown",
      "metadata": {
        "id": "yvdfEmCilMDb"
      },
      "source": [
        "Successfully joined intake and outcome data. "
      ]
    },
    {
      "cell_type": "code",
      "metadata": {
        "colab": {
          "base_uri": "https://localhost:8080/",
          "height": 225
        },
        "id": "2nGpS_Z8k-KQ",
        "outputId": "7f35eb6e-53ed-48ee-bb02-673470f8aa3f"
      },
      "source": [
        "# Calculating sheltertime for use in further calculations\n",
        "\n",
        "# Converting date columns from objects into datetime64 dtype\n",
        "i_o['intake_date'] = pd.to_datetime(i_o['intake_date'], format='%Y-%m-%d')\n",
        "i_o['outcome_date'] = pd.to_datetime(i_o['outcome_date'],format='%Y-%m-%d')\n",
        "# Calculating days in shelter and converting datatype from timedelta to int64\n",
        "# Converting timedelta to int64 with .dt.days\n",
        "intake = i_o['intake_date']\n",
        "outcome = i_o['outcome_date']\n",
        "i_o = i_o.assign(sheltertime = (outcome-intake).dt.days)\n",
        "i_o.head()"
      ],
      "execution_count": null,
      "outputs": [
        {
          "output_type": "execute_result",
          "data": {
            "text/html": [
              "<div>\n",
              "<style scoped>\n",
              "    .dataframe tbody tr th:only-of-type {\n",
              "        vertical-align: middle;\n",
              "    }\n",
              "\n",
              "    .dataframe tbody tr th {\n",
              "        vertical-align: top;\n",
              "    }\n",
              "\n",
              "    .dataframe thead th {\n",
              "        text-align: right;\n",
              "    }\n",
              "</style>\n",
              "<table border=\"1\" class=\"dataframe\">\n",
              "  <thead>\n",
              "    <tr style=\"text-align: right;\">\n",
              "      <th></th>\n",
              "      <th>intake_date</th>\n",
              "      <th>intake_type</th>\n",
              "      <th>intake_condition</th>\n",
              "      <th>animal_type_i</th>\n",
              "      <th>sex_upon_intake</th>\n",
              "      <th>age_upon_intake</th>\n",
              "      <th>outcome_date</th>\n",
              "      <th>outcome_type</th>\n",
              "      <th>sex_upon_outcome</th>\n",
              "      <th>age_upon_outcome</th>\n",
              "      <th>breed</th>\n",
              "      <th>color</th>\n",
              "      <th>outcome_subtype</th>\n",
              "      <th>sheltertime</th>\n",
              "    </tr>\n",
              "    <tr>\n",
              "      <th>animal_id</th>\n",
              "      <th></th>\n",
              "      <th></th>\n",
              "      <th></th>\n",
              "      <th></th>\n",
              "      <th></th>\n",
              "      <th></th>\n",
              "      <th></th>\n",
              "      <th></th>\n",
              "      <th></th>\n",
              "      <th></th>\n",
              "      <th></th>\n",
              "      <th></th>\n",
              "      <th></th>\n",
              "      <th></th>\n",
              "    </tr>\n",
              "  </thead>\n",
              "  <tbody>\n",
              "    <tr>\n",
              "      <th>A832502</th>\n",
              "      <td>2021-04-14 14:37:00</td>\n",
              "      <td>Stray</td>\n",
              "      <td>Nursing</td>\n",
              "      <td>Cat</td>\n",
              "      <td>Intact Male</td>\n",
              "      <td>1 week</td>\n",
              "      <td>2021-04-14 16:58:00</td>\n",
              "      <td>Transfer</td>\n",
              "      <td>Intact Male</td>\n",
              "      <td>1 week</td>\n",
              "      <td>Domestic Shorthair</td>\n",
              "      <td>Blue</td>\n",
              "      <td>Partner</td>\n",
              "      <td>0</td>\n",
              "    </tr>\n",
              "    <tr>\n",
              "      <th>A832500</th>\n",
              "      <td>2021-04-14 14:37:00</td>\n",
              "      <td>Stray</td>\n",
              "      <td>Nursing</td>\n",
              "      <td>Cat</td>\n",
              "      <td>Intact Male</td>\n",
              "      <td>1 week</td>\n",
              "      <td>2021-04-14 16:58:00</td>\n",
              "      <td>Transfer</td>\n",
              "      <td>Intact Male</td>\n",
              "      <td>1 week</td>\n",
              "      <td>Domestic Shorthair</td>\n",
              "      <td>Brown Tabby</td>\n",
              "      <td>Partner</td>\n",
              "      <td>0</td>\n",
              "    </tr>\n",
              "    <tr>\n",
              "      <th>A832503</th>\n",
              "      <td>2021-04-14 14:37:00</td>\n",
              "      <td>Stray</td>\n",
              "      <td>Nursing</td>\n",
              "      <td>Cat</td>\n",
              "      <td>Intact Male</td>\n",
              "      <td>1 week</td>\n",
              "      <td>2021-04-14 16:58:00</td>\n",
              "      <td>Transfer</td>\n",
              "      <td>Intact Male</td>\n",
              "      <td>1 week</td>\n",
              "      <td>Domestic Shorthair</td>\n",
              "      <td>Blue</td>\n",
              "      <td>Partner</td>\n",
              "      <td>0</td>\n",
              "    </tr>\n",
              "    <tr>\n",
              "      <th>A832490</th>\n",
              "      <td>2021-04-14 13:40:00</td>\n",
              "      <td>Stray</td>\n",
              "      <td>Injured</td>\n",
              "      <td>Cat</td>\n",
              "      <td>Intact Male</td>\n",
              "      <td>1 weeks</td>\n",
              "      <td>2021-04-14 14:26:00</td>\n",
              "      <td>Euthanasia</td>\n",
              "      <td>Intact Male</td>\n",
              "      <td>NULL</td>\n",
              "      <td>Domestic Shorthair Mix</td>\n",
              "      <td>Blue Tabby</td>\n",
              "      <td>Suffering</td>\n",
              "      <td>0</td>\n",
              "    </tr>\n",
              "    <tr>\n",
              "      <th>A832474</th>\n",
              "      <td>2021-04-14 11:58:00</td>\n",
              "      <td>Wildlife</td>\n",
              "      <td>Sick</td>\n",
              "      <td>Other</td>\n",
              "      <td>Unknown</td>\n",
              "      <td>3 years</td>\n",
              "      <td>2021-04-14 12:01:00</td>\n",
              "      <td>Disposal</td>\n",
              "      <td>Unknown</td>\n",
              "      <td>3 years</td>\n",
              "      <td>Opossum</td>\n",
              "      <td>Gray/White</td>\n",
              "      <td>NaN</td>\n",
              "      <td>0</td>\n",
              "    </tr>\n",
              "  </tbody>\n",
              "</table>\n",
              "</div>"
            ],
            "text/plain": [
              "                  intake_date intake_type  ... outcome_subtype sheltertime\n",
              "animal_id                                  ...                            \n",
              "A832502   2021-04-14 14:37:00       Stray  ...         Partner           0\n",
              "A832500   2021-04-14 14:37:00       Stray  ...         Partner           0\n",
              "A832503   2021-04-14 14:37:00       Stray  ...         Partner           0\n",
              "A832490   2021-04-14 13:40:00       Stray  ...       Suffering           0\n",
              "A832474   2021-04-14 11:58:00    Wildlife  ...             NaN           0\n",
              "\n",
              "[5 rows x 14 columns]"
            ]
          },
          "metadata": {
            "tags": []
          },
          "execution_count": 304
        }
      ]
    },
    {
      "cell_type": "markdown",
      "metadata": {
        "id": "_czrzlNzYE9N"
      },
      "source": [
        "#Animal Volume and Adoption Rates in Austin Animal Shelter"
      ]
    },
    {
      "cell_type": "markdown",
      "metadata": {
        "id": "sk1-wAb8hRoU"
      },
      "source": [
        "Media reports indicate that many pets were added to American households during the COVID-19 lockdowns. This trend should be reflected in the Austin Animal Shelters data.\n"
      ]
    },
    {
      "cell_type": "code",
      "metadata": {
        "colab": {
          "base_uri": "https://localhost:8080/",
          "height": 312
        },
        "id": "1q89_hvdsGUC",
        "outputId": "dc5127e2-83b8-4024-ab50-9d25cacc1ad0"
      },
      "source": [
        "# Line chart depicting animal intakes per month from 2014 to 2021\n",
        "monthly_intakes = i_o.groupby(pd.Grouper(key='intake_date',freq='M'))['intake_date'].count()\n",
        "monthly_intakes.plot.line(title='Animal Intakes by Month', xlabel='Date', ylabel='# of Intakes')"
      ],
      "execution_count": null,
      "outputs": [
        {
          "output_type": "execute_result",
          "data": {
            "text/plain": [
              "<matplotlib.axes._subplots.AxesSubplot at 0x7f398afb1e90>"
            ]
          },
          "metadata": {
            "tags": []
          },
          "execution_count": 305
        },
        {
          "output_type": "display_data",
          "data": {
            "image/png": "[encoded data removed]",
            "text/plain": [
              "<Figure size 432x288 with 1 Axes>"
            ]
          },
          "metadata": {
            "tags": [],
            "needs_background": "light"
          }
        }
      ]
    },
    {
      "cell_type": "markdown",
      "metadata": {
        "id": "B9iPEylocXam"
      },
      "source": [
        "On this chart we can see that **animal intakes are cyclical** in nature and dramatically **rise during the spring and summer months**, as animals are actively breeding. With the onset of COVID-19 lockdowns and restrictions in the spring of 2020, intake volume decreased dramatically while still maintaining its cyclical nature."
      ]
    },
    {
      "cell_type": "code",
      "metadata": {
        "colab": {
          "base_uri": "https://localhost:8080/",
          "height": 312
        },
        "id": "uQF6LCAWy-wh",
        "outputId": "b9c6e72a-7813-4ac6-982a-e125388069e8"
      },
      "source": [
        "# Line chart depicting animal outcomes per month from 2014 to 2021\n",
        "monthly_outcomes = i_o.groupby(pd.Grouper(key='outcome_date',freq='M'))['intake_date'].count()\n",
        "monthly_outcomes.plot.line(title='Animal Outcomes by Month', xlabel='Date', ylabel='# of Outcomes')"
      ],
      "execution_count": null,
      "outputs": [
        {
          "output_type": "execute_result",
          "data": {
            "text/plain": [
              "<matplotlib.axes._subplots.AxesSubplot at 0x7f39a3e7ac90>"
            ]
          },
          "metadata": {
            "tags": []
          },
          "execution_count": 307
        },
        {
          "output_type": "display_data",
          "data": {
            "image/png": "[encoded data removed]",
            "text/plain": [
              "<Figure size 432x288 with 1 Axes>"
            ]
          },
          "metadata": {
            "tags": [],
            "needs_background": "light"
          }
        }
      ]
    },
    {
      "cell_type": "markdown",
      "metadata": {
        "id": "vKhFny7PzXmN"
      },
      "source": [
        "Outcomes track closely with the intake data."
      ]
    },
    {
      "cell_type": "code",
      "metadata": {
        "colab": {
          "base_uri": "https://localhost:8080/",
          "height": 312
        },
        "id": "CPQUkRDhiRa2",
        "outputId": "2de0dec6-f9dc-4415-94ac-d2622d70a13a"
      },
      "source": [
        "m_outcomes = i_o.groupby(pd.Grouper(key='outcome_date',freq='M'))['intake_date'].count()\n",
        "m_intakes = i_o.groupby(pd.Grouper(key='intake_date',freq='M'))['intake_date'].count()\n",
        "m_population = m_intakes - m_outcomes\n",
        "m_population.plot.line(title='Change In Shelter Population by Month', xlabel='Date', ylabel='Population Change')"
      ],
      "execution_count": null,
      "outputs": [
        {
          "output_type": "execute_result",
          "data": {
            "text/plain": [
              "<matplotlib.axes._subplots.AxesSubplot at 0x7f398b49b850>"
            ]
          },
          "metadata": {
            "tags": []
          },
          "execution_count": 308
        },
        {
          "output_type": "display_data",
          "data": {
            "image/png": "[encoded data removed]",
            "text/plain": [
              "<Figure size 432x288 with 1 Axes>"
            ]
          },
          "metadata": {
            "tags": [],
            "needs_background": "light"
          }
        }
      ]
    },
    {
      "cell_type": "markdown",
      "metadata": {
        "id": "XyVTTFchaZ7m"
      },
      "source": [
        "Positive values indicate that the shelter is experiencing a net increase in population, while negative values indicate that the net population is decreasing. "
      ]
    },
    {
      "cell_type": "code",
      "metadata": {
        "colab": {
          "base_uri": "https://localhost:8080/",
          "height": 312
        },
        "id": "7lDx9TJ5YSlU",
        "outputId": "9d2530c7-71f3-4007-bdc8-52e963021dda"
      },
      "source": [
        "# Line chart depicting average sheltertime of animals overtime\n",
        "monthly_duration = (i_o.groupby(pd.Grouper(key='outcome_date',freq='M'))['sheltertime'].sum())/(i_o.groupby(pd.Grouper(key='outcome_date',freq='M'))['sheltertime'].count())\n",
        "monthly_duration.plot(kind='line',title='Average Days Spent in Shelter', xlabel='Date', ylabel='Days')"
      ],
      "execution_count": null,
      "outputs": [
        {
          "output_type": "execute_result",
          "data": {
            "text/plain": [
              "<matplotlib.axes._subplots.AxesSubplot at 0x7f39a9fbf6d0>"
            ]
          },
          "metadata": {
            "tags": []
          },
          "execution_count": 309
        },
        {
          "output_type": "display_data",
          "data": {
            "image/png": "[encoded data removed]",
            "text/plain": [
              "<Figure size 432x288 with 1 Axes>"
            ]
          },
          "metadata": {
            "tags": [],
            "needs_background": "light"
          }
        }
      ]
    },
    {
      "cell_type": "markdown",
      "metadata": {
        "id": "Lf53p6UrfxCM"
      },
      "source": [
        "By plotting the average sheltertime of animals, we can see that while **the shelter handled significantly fewer animals** relative to other years, during the COVID-19 pandemic, the **average adoption times trended upwards** despite the reduced utilization. This is due in part to the restriction of public visitors to appointment only. "
      ]
    },
    {
      "cell_type": "code",
      "metadata": {
        "colab": {
          "base_uri": "https://localhost:8080/",
          "height": 312
        },
        "id": "ST1DfEbUjh_K",
        "outputId": "62ac84b5-44e4-4750-872b-7fd5a5d525e6"
      },
      "source": [
        "# Filtered Outcomes to only Adoptions or Return To Owner - Adopt\n",
        "adoption_df = i_o[(i_o['outcome_type']=='Adoption')|(i_o['outcome_type']=='Rto-Adopt')]\n",
        "monthly_adoptions = (adoption_df.groupby(pd.Grouper(key='outcome_date',freq='M'))['sheltertime'].sum())/(adoption_df.groupby(pd.Grouper(key='outcome_date',freq='M'))['sheltertime'].count())\n",
        "monthly_adoptions.plot(kind='line',title='Adoptions per Month', xlabel='Date', ylabel='Adoptions')"
      ],
      "execution_count": null,
      "outputs": [
        {
          "output_type": "execute_result",
          "data": {
            "text/plain": [
              "<matplotlib.axes._subplots.AxesSubplot at 0x7f398b42c210>"
            ]
          },
          "metadata": {
            "tags": []
          },
          "execution_count": 310
        },
        {
          "output_type": "display_data",
          "data": {
            "image/png": "[encoded data removed]",
            "text/plain": [
              "<Figure size 432x288 with 1 Axes>"
            ]
          },
          "metadata": {
            "tags": [],
            "needs_background": "light"
          }
        }
      ]
    },
    {
      "cell_type": "markdown",
      "metadata": {
        "id": "GcO5E99Ke9ie"
      },
      "source": [
        "Taken all together, **the data indicates that there was a surge in adoptions from the Austin Animal Shelter, proving our hypothesis to be true**. This was despite a dramatic decrease in the overall intakes and outcomes, indicating that as a proportion of outcomes, adoptions made up a greater share than previous years. As shown in the above chart, adoptions in previous years were typically anywhere from 20 to 50 adoptions per month, while during the COVID-19 lockdowns pet adoptions were up to a minimum of about 40 and a maximum of 90, or about double from previous years."
      ]
    },
    {
      "cell_type": "markdown",
      "metadata": {
        "id": "PPPXBZPmwiJG"
      },
      "source": [
        "Animal welfare advocates worry that with this surge of adoptions, pet surrenders will trend up following the end of lockdowns. This is due to people spending more time outside and at work, and having less time and resources to take care of their newly adopted pets. "
      ]
    },
    {
      "cell_type": "code",
      "metadata": {
        "id": "G07ONpO7x95H"
      },
      "source": [
        "# Converting original dataframe data types from object to date\n",
        "# Dataframes used when joined dataframe not necessary\n",
        "intake_df['datetime'] = pd.to_datetime(intake_df['datetime'], format='%Y-%m-%d')\n",
        "outcome_df['datetime'] = pd.to_datetime(outcome_df['datetime'],format='%Y-%m-%d')"
      ],
      "execution_count": null,
      "outputs": []
    },
    {
      "cell_type": "code",
      "metadata": {
        "colab": {
          "base_uri": "https://localhost:8080/",
          "height": 312
        },
        "id": "xAwt2F8KwwGo",
        "outputId": "22ddd838-4be2-4213-e786-dc28e231a391"
      },
      "source": [
        "# Filtered outcomes to surrenders\n",
        "\n",
        "surrender_df = intake_df[(intake_df['intake_type']=='Owner Surrender')]\n",
        "monthly_abandon = (surrender_df.groupby(pd.Grouper(key='datetime',freq='M'))['intake_type'].count())\n",
        "monthly_abandon.plot.line(title='Abandonments per Month', xlabel='Date', ylabel='Abandons')"
      ],
      "execution_count": null,
      "outputs": [
        {
          "output_type": "execute_result",
          "data": {
            "text/plain": [
              "<matplotlib.axes._subplots.AxesSubplot at 0x7f39a9aa85d0>"
            ]
          },
          "metadata": {
            "tags": []
          },
          "execution_count": 312
        },
        {
          "output_type": "display_data",
          "data": {
            "image/png": "[encoded data removed]",
            "text/plain": [
              "<Figure size 432x288 with 1 Axes>"
            ]
          },
          "metadata": {
            "tags": [],
            "needs_background": "light"
          }
        }
      ]
    },
    {
      "cell_type": "markdown",
      "metadata": {
        "id": "9jIKPGrazrO-"
      },
      "source": [
        "As we can see, **pet abandonment to animal shelters is down during the 2020-2021 period**. Using this notebook to reobtain data in the future, we expect to see the monthly abandonment count to increase dramatically, assuming that the concerns of animal welfare advocates are well founded."
      ]
    },
    {
      "cell_type": "markdown",
      "metadata": {
        "id": "EWUViqu61gX_"
      },
      "source": [
        "Sometimes animal shelters are unable to help its charges, and the animals end up dying in the shelter system. While it is unavoidable at times, it is still in the best interest of the shelter to monitor and minimize loss of life."
      ]
    },
    {
      "cell_type": "code",
      "metadata": {
        "colab": {
          "base_uri": "https://localhost:8080/",
          "height": 312
        },
        "id": "1Uqruch51q17",
        "outputId": "6ed5a7f2-f3f7-4485-afee-6d61bc072755"
      },
      "source": [
        "# Filtered outcomes to death, disposal, or euthanasia\n",
        "\n",
        "death_df = outcome_df[(outcome_df['outcome_type']=='Euthanasia')|(outcome_df['outcome_type']=='Died')|(outcome_df['outcome_type']=='Disposal')]\n",
        "monthly_death = (death_df.groupby(pd.Grouper(key='datetime',freq='M'))['outcome_type'].count())\n",
        "monthly_death.plot.line(title='Deaths per Month', xlabel='Date', ylabel='Deaths')"
      ],
      "execution_count": null,
      "outputs": [
        {
          "output_type": "execute_result",
          "data": {
            "text/plain": [
              "<matplotlib.axes._subplots.AxesSubplot at 0x7f39a92b11d0>"
            ]
          },
          "metadata": {
            "tags": []
          },
          "execution_count": 314
        },
        {
          "output_type": "display_data",
          "data": {
            "image/png": "[encoded data removed]",
            "text/plain": [
              "<Figure size 432x288 with 1 Axes>"
            ]
          },
          "metadata": {
            "tags": [],
            "needs_background": "light"
          }
        }
      ]
    },
    {
      "cell_type": "markdown",
      "metadata": {
        "id": "LRb2jsn02_96"
      },
      "source": [
        "As we can see, **deaths have been trending downwards**, indicating that the shelter has been improving its performance year over year. However as the volume of animals handled in 2020-2021 was lower than previous years, it is unclear if this trend has continued."
      ]
    },
    {
      "cell_type": "markdown",
      "metadata": {
        "id": "A0necVUXSWCW"
      },
      "source": [
        "#Rabies Risk in Austin, TX\n",
        "\n",
        "Rabies is an infectious disease transferred via the saliva of mammals, typically wild mammals including bats, raccoons, skunks, and foxes.\n",
        "\n",
        "There is currently no known treatment for rabies in pets, and **should a pet become infected with rabies its only possible outcome is euthanasia**. As such, animal shelters and animal control organizations are very concerned with keeping rabies risk to a minimum.\n",
        "\n",
        "The following section is intended to visualize the rabies infection rate in order to determine if the risk of rabies is rising, static, or decreasing."
      ]
    },
    {
      "cell_type": "code",
      "metadata": {
        "colab": {
          "base_uri": "https://localhost:8080/",
          "height": 295
        },
        "id": "kU89M1VYLkb1",
        "outputId": "81bbd596-7a5c-49cf-adde-2697ebd8015c"
      },
      "source": [
        "# Line chart depicting number of animals euthanized due to rabies risk per month\n",
        "# Create new filtered dataframe including only animals labeled as rabies risk\n",
        "rabies_df = i_o[i_o['outcome_subtype'] == 'Rabies Risk']\n",
        "monthly_rabies = rabies_df.groupby(pd.Grouper(key='outcome_date',freq='M'))['outcome_date'].count().plot.line(title='Potential Rabies Cases by Month', xlabel='Month',ylabel='Number of Potential Rabies Cases')"
      ],
      "execution_count": null,
      "outputs": [
        {
          "output_type": "display_data",
          "data": {
            "image/png": "[encoded data removed]",
            "text/plain": [
              "<Figure size 432x288 with 1 Axes>"
            ]
          },
          "metadata": {
            "tags": [],
            "needs_background": "light"
          }
        }
      ]
    },
    {
      "cell_type": "markdown",
      "metadata": {
        "id": "wt545jOqPBVP"
      },
      "source": [
        "While the monthly intake/outcome graphs show dramatically reduced volume during the COVID-19 pandemic, the number of potentially rabies infected animals does not change as sharply. Overall it appears **Austin is reducing the frequency of rabies over time**."
      ]
    },
    {
      "cell_type": "markdown",
      "metadata": {
        "id": "JjuNyieWYoE7"
      },
      "source": [
        "# Factors Influencing Amount of Time Prior to Adoption\n",
        "\n"
      ]
    },
    {
      "cell_type": "code",
      "metadata": {
        "id": "-FMY8hTDXIwn"
      },
      "source": [
        "# Dataframes containing only adopted animals, broken down by animal species.\n",
        "cat_df = i_o[(i_o['animal_type_i']=='Cat')&((i_o['outcome_type']=='Adoption')|(i_o['outcome_type']=='Rto-Adopt'))]\n",
        "dog_df = i_o[(i_o['animal_type_i']=='Dog')&((i_o['outcome_type']=='Adoption')|(i_o['outcome_type']=='Rto-Adopt'))]\n",
        "bird_df = i_o[(i_o['animal_type_i']=='Bird')&((i_o['outcome_type']=='Adoption')|(i_o['outcome_type']=='Rto-Adopt'))]\n",
        "other_df = i_o[(i_o['animal_type_i']=='Other')&((i_o['outcome_type']=='Adoption')|(i_o['outcome_type']=='Rto-Adopt'))]"
      ],
      "execution_count": null,
      "outputs": []
    },
    {
      "cell_type": "code",
      "metadata": {
        "colab": {
          "base_uri": "https://localhost:8080/",
          "height": 258
        },
        "id": "vc1JJcTuFnTM",
        "outputId": "75c7f954-9b21-453d-841c-418a86147ca1"
      },
      "source": [
        "# Summary statistics of sheltertime grouped by animal type\n",
        "rp.summary_cont(adoption_df['sheltertime'].groupby(adoption_df['animal_type_i']))"
      ],
      "execution_count": null,
      "outputs": [
        {
          "output_type": "stream",
          "text": [
            "\n",
            "\n"
          ],
          "name": "stdout"
        },
        {
          "output_type": "execute_result",
          "data": {
            "text/html": [
              "<div>\n",
              "<style scoped>\n",
              "    .dataframe tbody tr th:only-of-type {\n",
              "        vertical-align: middle;\n",
              "    }\n",
              "\n",
              "    .dataframe tbody tr th {\n",
              "        vertical-align: top;\n",
              "    }\n",
              "\n",
              "    .dataframe thead th {\n",
              "        text-align: right;\n",
              "    }\n",
              "</style>\n",
              "<table border=\"1\" class=\"dataframe\">\n",
              "  <thead>\n",
              "    <tr style=\"text-align: right;\">\n",
              "      <th></th>\n",
              "      <th>N</th>\n",
              "      <th>Mean</th>\n",
              "      <th>SD</th>\n",
              "      <th>SE</th>\n",
              "      <th>95% Conf.</th>\n",
              "      <th>Interval</th>\n",
              "    </tr>\n",
              "    <tr>\n",
              "      <th>animal_type_i</th>\n",
              "      <th></th>\n",
              "      <th></th>\n",
              "      <th></th>\n",
              "      <th></th>\n",
              "      <th></th>\n",
              "      <th></th>\n",
              "    </tr>\n",
              "  </thead>\n",
              "  <tbody>\n",
              "    <tr>\n",
              "      <th>Bird</th>\n",
              "      <td>206</td>\n",
              "      <td>13.4709</td>\n",
              "      <td>18.5348</td>\n",
              "      <td>1.2914</td>\n",
              "      <td>10.9248</td>\n",
              "      <td>16.0170</td>\n",
              "    </tr>\n",
              "    <tr>\n",
              "      <th>Cat</th>\n",
              "      <td>18623</td>\n",
              "      <td>41.1491</td>\n",
              "      <td>54.6901</td>\n",
              "      <td>0.4008</td>\n",
              "      <td>40.3635</td>\n",
              "      <td>41.9346</td>\n",
              "    </tr>\n",
              "    <tr>\n",
              "      <th>Dog</th>\n",
              "      <td>23632</td>\n",
              "      <td>26.4355</td>\n",
              "      <td>59.9366</td>\n",
              "      <td>0.3899</td>\n",
              "      <td>25.6713</td>\n",
              "      <td>27.1997</td>\n",
              "    </tr>\n",
              "    <tr>\n",
              "      <th>Livestock</th>\n",
              "      <td>8</td>\n",
              "      <td>168.7500</td>\n",
              "      <td>131.0003</td>\n",
              "      <td>46.3156</td>\n",
              "      <td>59.2310</td>\n",
              "      <td>278.2690</td>\n",
              "    </tr>\n",
              "    <tr>\n",
              "      <th>Other</th>\n",
              "      <td>493</td>\n",
              "      <td>24.6897</td>\n",
              "      <td>30.4058</td>\n",
              "      <td>1.3694</td>\n",
              "      <td>21.9990</td>\n",
              "      <td>27.3803</td>\n",
              "    </tr>\n",
              "  </tbody>\n",
              "</table>\n",
              "</div>"
            ],
            "text/plain": [
              "                   N      Mean        SD       SE  95% Conf.  Interval\n",
              "animal_type_i                                                         \n",
              "Bird             206   13.4709   18.5348   1.2914    10.9248   16.0170\n",
              "Cat            18623   41.1491   54.6901   0.4008    40.3635   41.9346\n",
              "Dog            23632   26.4355   59.9366   0.3899    25.6713   27.1997\n",
              "Livestock          8  168.7500  131.0003  46.3156    59.2310  278.2690\n",
              "Other            493   24.6897   30.4058   1.3694    21.9990   27.3803"
            ]
          },
          "metadata": {
            "tags": []
          },
          "execution_count": 317
        }
      ]
    },
    {
      "cell_type": "markdown",
      "metadata": {
        "id": "A9fAbI3NSCaZ"
      },
      "source": [
        "Quick descriptive statistics showing the time in shelter data, broken down by animal types."
      ]
    },
    {
      "cell_type": "code",
      "metadata": {
        "colab": {
          "base_uri": "https://localhost:8080/"
        },
        "id": "l7iLmetMBaRC",
        "outputId": "0f192b1f-b028-4463-b2c0-4d329f635c42"
      },
      "source": [
        "# One way ANOVA test of shelter time vs animal type\n",
        "scipy.stats.f_oneway(i_o['sheltertime'][i_o['animal_type_i']== 'Cat'],\n",
        "               i_o['sheltertime'][i_o['animal_type_i'] == 'Dog'],\n",
        "               i_o['sheltertime'][i_o['animal_type_i'] == 'Bird'])"
      ],
      "execution_count": null,
      "outputs": [
        {
          "output_type": "execute_result",
          "data": {
            "text/plain": [
              "F_onewayResult(statistic=203.5660924553353, pvalue=6.060425837960418e-89)"
            ]
          },
          "metadata": {
            "tags": []
          },
          "execution_count": 318
        }
      ]
    },
    {
      "cell_type": "code",
      "metadata": {
        "colab": {
          "base_uri": "https://localhost:8080/"
        },
        "id": "YGirnj3-fFxw",
        "outputId": "08a389c1-934f-4828-ac75-1cedcea99179"
      },
      "source": [
        "# One way ANOVA test of shelter time vs animal type\n",
        "scipy.stats.f_oneway(cat_df['sheltertime'],dog_df['sheltertime'],bird_df['sheltertime'])"
      ],
      "execution_count": null,
      "outputs": [
        {
          "output_type": "execute_result",
          "data": {
            "text/plain": [
              "F_onewayResult(statistic=352.00644912127007, pvalue=2.3940812239670796e-152)"
            ]
          },
          "metadata": {
            "tags": []
          },
          "execution_count": 319
        }
      ]
    },
    {
      "cell_type": "markdown",
      "metadata": {
        "id": "2BwpJnOiTSMJ"
      },
      "source": [
        "One way ANOVA test to determine if there is a statistically significant difference between the means of 3 or more groups. If the F value and P value are lower than the critical F value and alpha values respectively, we can conclude that there is a statistically significant difference between the groups."
      ]
    },
    {
      "cell_type": "code",
      "metadata": {
        "colab": {
          "base_uri": "https://localhost:8080/"
        },
        "id": "CKhG8nzzTRFF",
        "outputId": "8b6e66e4-4c57-4a70-8d3b-a11a120822b6"
      },
      "source": [
        "# Calculation of F-Critical Value\n",
        "\n",
        "# Significance Level Used, input as % confidence.\n",
        "qf = 0.95\n",
        "\n",
        "# The numerator degrees of freedom are equal to the number of groups minus one\n",
        "dfn = 2\n",
        "\n",
        "# Degrees of Freedom, Denominator\n",
        "# The denominator degrees of freedom are number of groups × (number of subjects minus one)\n",
        "dfd = dfn*(cat_df['sheltertime'].count()+dog_df['sheltertime'].count()+bird_df['sheltertime'].count()-1)\n",
        "\n",
        "# F Critical Value\n",
        "f_crit = scipy.stats.f.ppf(qf,dfn,dfd)\n",
        "\n",
        "print('The F-Critical Value is:',f_crit)"
      ],
      "execution_count": null,
      "outputs": [
        {
          "output_type": "stream",
          "text": [
            "The F-Critical Value is:  2.9958379567715663\n"
          ],
          "name": "stdout"
        }
      ]
    },
    {
      "cell_type": "markdown",
      "metadata": {
        "id": "BqTeQMZYW7YK"
      },
      "source": [
        "As the F statistic value is greater than the F critical value, and the p value is lower than the alpha, we can reject the null hypothesis and conclude that there is a statistically significant difference in shelter time between different animal species. This does not demonstrate a statistically significant difference between two specific animal groups however."
      ]
    },
    {
      "cell_type": "code",
      "metadata": {
        "colab": {
          "base_uri": "https://localhost:8080/"
        },
        "id": "a88RrEjNYxQ_",
        "outputId": "c634df1b-fa2c-44c2-a6cf-a223c1657b94"
      },
      "source": [
        "# T Critical Value Calculation\n",
        "\n",
        "# Significance Level Used, input as % confidence\n",
        "qt = 0.95\n",
        "\n",
        "# Degrees of freedom\n",
        "catdog = cat_df['sheltertime'].count()+dog_df['sheltertime'].count()\n",
        "catbird = cat_df['sheltertime'].count()+bird_df['sheltertime'].count()\n",
        "dogbird = dog_df['sheltertime'].count()+bird_df['sheltertime'].count()\n",
        "\n",
        "# T critical calculations for each pair of animal species involved in earlier ANOVA test\n",
        "t_crit_catdog = scipy.stats.t.ppf(qt, catdog)\n",
        "t_crit_catbird = scipy.stats.t.ppf(qt, catbird)\n",
        "t_crit_dogbird = scipy.stats.t.ppf(qt, dogbird)\n",
        "\n",
        "print('The T-Critical value for cats vs dogs is :', t_crit_catdog)\n",
        "print('The T-Critical value for cats vs birds is :', t_crit_catbird)\n",
        "print('The T-Critical value for birds vs dogs is :', t_crit_dogbird)"
      ],
      "execution_count": null,
      "outputs": [
        {
          "output_type": "stream",
          "text": [
            "The T-Critical value for cats vs dogs is : 1.644889689021249\n",
            "The T-Critical value for cats vs birds is : 1.6449345576741186\n",
            "The T-Critical value for birds vs dogs is : 1.6449175513044623\n"
          ],
          "name": "stdout"
        }
      ]
    },
    {
      "cell_type": "code",
      "metadata": {
        "colab": {
          "base_uri": "https://localhost:8080/"
        },
        "id": "IbNof_MKYVe0",
        "outputId": "46c21873-d7e1-4707-92cd-4310072abd6e"
      },
      "source": [
        "# Two Sample T-Tests - Cat vs Dog\n",
        "scipy.stats.ttest_ind(cat_df['sheltertime'],dog_df['sheltertime'])"
      ],
      "execution_count": null,
      "outputs": [
        {
          "output_type": "execute_result",
          "data": {
            "text/plain": [
              "Ttest_indResult(statistic=26.031881077310402, pvalue=3.199297270794535e-148)"
            ]
          },
          "metadata": {
            "tags": []
          },
          "execution_count": 322
        }
      ]
    },
    {
      "cell_type": "markdown",
      "metadata": {
        "id": "Ew5MFpMraY2x"
      },
      "source": [
        "The T statistic exceeds the T critical value, and the p value is less than the alpha. We reject the null hypothesis and conclude that there is a statistically significant difference between the shelter time of cats and dogs."
      ]
    },
    {
      "cell_type": "code",
      "metadata": {
        "colab": {
          "base_uri": "https://localhost:8080/"
        },
        "id": "B-6_ypz8aKJA",
        "outputId": "d5856feb-077c-4e93-fec7-5839a7ccb31f"
      },
      "source": [
        "# Two Sample T-Tests - Cat vs Bird\n",
        "scipy.stats.ttest_ind(cat_df['sheltertime'],bird_df['sheltertime'])"
      ],
      "execution_count": null,
      "outputs": [
        {
          "output_type": "execute_result",
          "data": {
            "text/plain": [
              "Ttest_indResult(statistic=7.258998355792272, pvalue=4.051467372913072e-13)"
            ]
          },
          "metadata": {
            "tags": []
          },
          "execution_count": 323
        }
      ]
    },
    {
      "cell_type": "markdown",
      "metadata": {
        "id": "yPvMsaMIa5WK"
      },
      "source": [
        "The T statistic exceeds the T critical value, and the p value is less than the alpha. We reject the null hypothesis and conclude that there is a statistically significant difference between the shelter time of cats and birds."
      ]
    },
    {
      "cell_type": "code",
      "metadata": {
        "colab": {
          "base_uri": "https://localhost:8080/"
        },
        "id": "yLbVf8BaaMwt",
        "outputId": "40f634aa-4ae2-41c5-cbc1-302113b5c01b"
      },
      "source": [
        "# Two Sample T-Tests - Dog vs Bird\n",
        "scipy.stats.ttest_ind(dog_df['sheltertime'],bird_df['sheltertime'])"
      ],
      "execution_count": null,
      "outputs": [
        {
          "output_type": "execute_result",
          "data": {
            "text/plain": [
              "Ttest_indResult(statistic=3.1032105591978043, pvalue=0.00191657269348141)"
            ]
          },
          "metadata": {
            "tags": []
          },
          "execution_count": 324
        }
      ]
    },
    {
      "cell_type": "markdown",
      "metadata": {
        "id": "PANw6-iqa62T"
      },
      "source": [
        "The T statistic exceeds the T critical value, and the p value is less than the alpha. We reject the null hypothesis and conclude that there is a statistically significant difference between the shelter time of dogs and birds."
      ]
    },
    {
      "cell_type": "markdown",
      "metadata": {
        "id": "xoxUbNHwa9_M"
      },
      "source": [
        "Having completed the ANOVA tests and follow up T tests, we have determined that the descriptive statistics calculated at the start of this section are statistically significant. **This proves our hypothesis true that animal species has a statistically signnificant effect on adoption times**. From that information we can conclude that Birds are typically adopted out extremely quickly **(bird mean adoption time = 13.5 days)** and do not need significant resources to find them homes. Meanwhile dogs **(mean adoption time = 26.4 days)** take significantly longer, and cats even more time **(cat mean adoption time = 41.1 days)**. Advertising resources should therefore be focused on the cat population, and to a lesser extent dogs."
      ]
    },
    {
      "cell_type": "markdown",
      "metadata": {
        "id": "u6xRtPqnYas6"
      },
      "source": [
        "#Export Dataframe as .csv to Google Drive"
      ]
    },
    {
      "cell_type": "code",
      "metadata": {
        "colab": {
          "base_uri": "https://localhost:8080/"
        },
        "id": "LEtylx3602A5",
        "outputId": "3cb7a3c6-f680-41b7-a785-2e0e19757ba9"
      },
      "source": [
        "# Code block to export processed dataframe into csv file for use in other software/troubleshooting\n",
        "from google.colab import drive\n",
        "drive.mount('drive')\n",
        "\n",
        "i_o.to_csv('join_data.csv')\n",
        "!cp join_data.csv \"drive/My Drive/\"\n",
        "\n",
        "intake_df2.to_csv('intake.csv')\n",
        "!cp intake.csv \"drive/My Drive/\"\n",
        "\n",
        "outcome_df2.to_csv('outcome.csv')\n",
        "!cp outcome.csv \"drive/My Drive/\""
      ],
      "execution_count": null,
      "outputs": [
        {
          "output_type": "stream",
          "text": [
            "Drive already mounted at drive; to attempt to forcibly remount, call drive.mount(\"drive\", force_remount=True).\n"
          ],
          "name": "stdout"
        }
      ]
    }
  ]
}